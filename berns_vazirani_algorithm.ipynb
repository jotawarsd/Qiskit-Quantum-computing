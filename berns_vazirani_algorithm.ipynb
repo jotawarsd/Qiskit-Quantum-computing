{
 "cells": [
  {
   "cell_type": "code",
   "execution_count": 68,
   "source": [
    "from qiskit import *\r\n",
    "%matplotlib inline\r\n",
    "from qiskit.tools.visualization import plot_histogram"
   ],
   "outputs": [],
   "metadata": {}
  },
  {
   "cell_type": "code",
   "execution_count": 69,
   "source": [
    "secretnumber = '101010101110010100010100111'\r\n",
    "n =  len(secretnumber)"
   ],
   "outputs": [],
   "metadata": {}
  },
  {
   "cell_type": "code",
   "execution_count": 70,
   "source": [
    "circuit = QuantumCircuit(n+1, n)\r\n",
    "\r\n",
    "#circuit.h([0,1,2,3,4,5])\r\n",
    "circuit.h(range(n))\r\n",
    "circuit.x(n)\r\n",
    "circuit.h(n)\r\n",
    "circuit.barrier()\r\n",
    "\r\n",
    "for i,yesno in enumerate(reversed(secretnumber)):\r\n",
    "    if (yesno == '1'):\r\n",
    "        circuit.cx(i,n)\r\n",
    "\r\n",
    "circuit.barrier()\r\n",
    "circuit.h(range(n))\r\n",
    "circuit.measure(range(n),range(n))"
   ],
   "outputs": [
    {
     "output_type": "execute_result",
     "data": {
      "text/plain": [
       "<qiskit.circuit.instructionset.InstructionSet at 0x2a251a375e0>"
      ]
     },
     "metadata": {},
     "execution_count": 70
    }
   ],
   "metadata": {}
  },
  {
   "cell_type": "code",
   "execution_count": 71,
   "source": [
    "simulator = Aer.get_backend('qasm_simulator')\r\n",
    "result = execute(circuit, backend = simulator, shots = 1).result()\r\n",
    "counts = result.get_counts()\r\n",
    "print(counts)"
   ],
   "outputs": [],
   "metadata": {}
  }
 ],
 "metadata": {
  "orig_nbformat": 4,
  "language_info": {
   "name": "python"
  }
 },
 "nbformat": 4,
 "nbformat_minor": 2
}