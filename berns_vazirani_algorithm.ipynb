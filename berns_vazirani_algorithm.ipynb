{
 "cells": [
  {
   "cell_type": "code",
   "execution_count": 11,
   "source": [
    "from qiskit import *\r\n",
    "%matplotlib inline\r\n",
    "from qiskit.tools.visualization import plot_histogram"
   ],
   "outputs": [],
   "metadata": {}
  },
  {
   "cell_type": "code",
   "execution_count": 12,
   "source": [
    "secretnumber = '1010'\r\n",
    "n =  len(secretnumber)"
   ],
   "outputs": [],
   "metadata": {}
  },
  {
   "cell_type": "code",
   "execution_count": 13,
   "source": [
    "circuit = QuantumCircuit(n+1, n)\r\n",
    "\r\n",
    "circuit.h(range(n))\r\n",
    "circuit.x(n)\r\n",
    "circuit.h(n)\r\n",
    "circuit.barrier()\r\n",
    "\r\n",
    "for i,yesno in enumerate(reversed(secretnumber)):\r\n",
    "    if (yesno == '1'):\r\n",
    "        circuit.cx(i,n)\r\n",
    "\r\n",
    "circuit.barrier()\r\n",
    "circuit.h(range(n))\r\n",
    "circuit.measure(range(n),range(n))"
   ],
   "outputs": [
    {
     "output_type": "execute_result",
     "data": {
      "text/plain": [
       "<qiskit.circuit.instructionset.InstructionSet at 0x20e6c1acc70>"
      ]
     },
     "metadata": {},
     "execution_count": 13
    }
   ],
   "metadata": {}
  },
  {
   "cell_type": "code",
   "execution_count": 14,
   "source": [
    "simulator = Aer.get_backend('qasm_simulator')\r\n",
    "result = execute(circuit, backend = simulator, shots = 1).result()\r\n",
    "counts = result.get_counts()\r\n",
    "print(counts)"
   ],
   "outputs": [
    {
     "output_type": "stream",
     "name": "stdout",
     "text": [
      "{'1010': 1}\n"
     ]
    }
   ],
   "metadata": {}
  },
  {
   "cell_type": "code",
   "execution_count": 15,
   "source": [
    "IBMQ.load_account()\r\n",
    "provider = IBMQ.get_provider('ibm-q')\r\n",
    "qcomp = provider.get_backend('ibmq_santiago')\r\n",
    "job = execute(circuit, backend=qcomp)\r\n",
    "from qiskit.tools.monitor import job_monitor\r\n",
    "job_monitor(job)"
   ],
   "outputs": [
    {
     "output_type": "stream",
     "name": "stderr",
     "text": [
      "ibmqfactory.load_account:WARNING:2021-07-17 16:26:06,923: Credentials are already in use. The existing account in the session will be replaced.\n"
     ]
    }
   ],
   "metadata": {}
  }
 ],
 "metadata": {
  "orig_nbformat": 4,
  "language_info": {
   "name": "python"
  }
 },
 "nbformat": 4,
 "nbformat_minor": 2
}